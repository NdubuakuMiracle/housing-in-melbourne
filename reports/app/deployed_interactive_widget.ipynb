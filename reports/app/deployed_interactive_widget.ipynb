{
 "cells": [
  {
   "cell_type": "markdown",
   "metadata": {},
   "source": [
    "## Prediction Jupyter Notebook For Direct Interactivity"
   ]
  },
  {
   "cell_type": "code",
   "execution_count": 2,
   "metadata": {},
   "outputs": [
    {
     "data": {
      "application/vnd.jupyter.widget-view+json": {
       "model_id": "6d3dbfa5f6f54452915e4c590233ed19",
       "version_major": 2,
       "version_minor": 0
      },
      "text/plain": [
       "interactive(children=(Dropdown(description='Suburb:', options=('Abbotsford', 'Aberfeldie', 'Airport West', 'Al…"
      ]
     },
     "metadata": {},
     "output_type": "display_data"
    }
   ],
   "source": [
    "from ipywidgets import interact, Dropdown, IntSlider, FloatSlider\n",
    "from ipywidgets.embed import embed_minimal_html\n",
    "import pandas as pd\n",
    "import joblib\n",
    "\n",
    "# Load trained model\n",
    "model = joblib.load(\"../../models/price_by_sub_area_lat_lon_model.pkl\")\n",
    "\n",
    "# Load dataset for dropdown options\n",
    "X_train = pd.read_csv(\"../../data/processed/X_train.csv\")\n",
    "\n",
    "\n",
    "# Interactive function\n",
    "def price_predictor(suburb, area, latitude, longitude):\n",
    "    df = pd.DataFrame(\n",
    "        {\n",
    "            \"Suburb\": [suburb],\n",
    "            \"BuildingArea\": [area],\n",
    "            \"Latitude\": [latitude],\n",
    "            \"Longitude\": [longitude],\n",
    "        }\n",
    "    )\n",
    "\n",
    "    df = df[model.feature_names_in_]  # Ensure correct feature order\n",
    "    prediction = model.predict(df).round(2)[0]\n",
    "\n",
    "    return f\"Predicted House Price: ${prediction}\"\n",
    "\n",
    "\n",
    "# Run interactive widget\n",
    "widget = interact(\n",
    "    price_predictor,\n",
    "    suburb=Dropdown(options=sorted(X_train[\"Suburb\"].unique()), description=\"Suburb:\"),\n",
    "    area=IntSlider(\n",
    "        min=X_train[\"BuildingArea\"].min(),\n",
    "        max=X_train[\"BuildingArea\"].max(),\n",
    "        value=X_train[\"BuildingArea\"].mean(),\n",
    "        description=\"BuildingArea:\",\n",
    "    ),\n",
    "    latitude=FloatSlider(\n",
    "        min=X_train[\"Latitude\"].min(),\n",
    "        max=X_train[\"Latitude\"].max(),\n",
    "        step=0.01,\n",
    "        value=X_train[\"Latitude\"].mean(),\n",
    "        description=\"Latitude:\",\n",
    "    ),\n",
    "    longitude=FloatSlider(\n",
    "        min=X_train[\"Longitude\"].min(),\n",
    "        max=X_train[\"Longitude\"].max(),\n",
    "        step=0.01,\n",
    "        value=X_train[\"Longitude\"].mean(),\n",
    "        description=\"Longitude:\",\n",
    "    ),\n",
    ")\n",
    "\n",
    "embed_minimal_html(\n",
    "    \"widget_snapshot.html\", views=[widget.widget], title=\"Interactive Widget\"\n",
    ")"
   ]
  },
  {
   "cell_type": "code",
   "execution_count": null,
   "metadata": {},
   "outputs": [],
   "source": []
  }
 ],
 "metadata": {
  "kernelspec": {
   "display_name": "myenv",
   "language": "python",
   "name": "python3"
  },
  "language_info": {
   "codemirror_mode": {
    "name": "ipython",
    "version": 3
   },
   "file_extension": ".py",
   "mimetype": "text/x-python",
   "name": "python",
   "nbconvert_exporter": "python",
   "pygments_lexer": "ipython3",
   "version": "3.12.3"
  }
 },
 "nbformat": 4,
 "nbformat_minor": 2
}
