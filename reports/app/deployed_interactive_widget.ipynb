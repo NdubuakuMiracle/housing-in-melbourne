{
 "cells": [
  {
   "cell_type": "markdown",
   "metadata": {},
   "source": [
    "## Prediction Jupyter Notebook For Direct Interactivity"
   ]
  },
  {
   "cell_type": "code",
   "execution_count": null,
   "metadata": {},
   "outputs": [],
   "source": [
    "!pip install category_encoders"
   ]
  },
  {
   "cell_type": "code",
   "execution_count": null,
   "metadata": {},
   "outputs": [],
   "source": [
    "import pandas as pd\n",
    "import joblib\n",
    "import requests\n",
    "from io import BytesIO\n",
    "\n",
    "# Load dataset & model from GitHub\n",
    "GITHUB_REPO = (\n",
    "    \"https://raw.githubusercontent.com/NdubuakuMiracle/housing-in-melbourne/main\"\n",
    ")\n",
    "CSV_URL = f\"{GITHUB_REPO}/data/processed/X_test.csv\"\n",
    "MODEL_URL = f\"{GITHUB_REPO}/models/price_by_sub_area_lat_lon_model.pkl\"\n",
    "\n",
    "# Load dataset (X_test)\n",
    "X_test = pd.read_csv(CSV_URL)\n",
    "\n",
    "# Load trained model\n",
    "model = joblib.load(BytesIO(requests.get(MODEL_URL).content))"
   ]
  },
  {
   "cell_type": "code",
   "execution_count": null,
   "metadata": {},
   "outputs": [],
   "source": [
    "from ipywidgets import interact, Dropdown, IntSlider, FloatSlider\n",
    "from google.colab import output  # Required for interactivity in Colab\n",
    "\n",
    "\n",
    "# Enable interactive widgets in Colab\n",
    "output.enable_custom_widget_manager()\n",
    "\n",
    "\n",
    "# Prediction function\n",
    "def price_predictor(suburb, area, latitude, longitude):\n",
    "    df = pd.DataFrame(\n",
    "        {\n",
    "            \"Suburb\": [suburb],\n",
    "            \"BuildingArea\": [area],\n",
    "            \"Latitude\": [latitude],\n",
    "            \"Longitude\": [longitude],\n",
    "        }\n",
    "    )\n",
    "    prediction = model.predict(df)[0]\n",
    "    return f\"Predicted House Price: ${prediction:,.2f}\"\n",
    "\n",
    "\n",
    "# Run interactive widget\n",
    "\n",
    "widget = interact(\n",
    "    price_predictor,\n",
    "    suburb=Dropdown(options=sorted(X_test[\"Suburb\"].unique()), description=\"Suburb:\"),\n",
    "    area=IntSlider(\n",
    "        min=X_test[\"BuildingArea\"].min(),\n",
    "        max=X_test[\"BuildingArea\"].max(),\n",
    "        value=X_test[\"BuildingArea\"].mean(),\n",
    "        description=\"BuildingArea:\",\n",
    "    ),\n",
    "    latitude=FloatSlider(\n",
    "        min=X_test[\"Latitude\"].min(),\n",
    "        max=X_test[\"Latitude\"].max(),\n",
    "        step=0.01,\n",
    "        value=X_test[\"Latitude\"].mean(),\n",
    "        description=\"Latitude:\",\n",
    "    ),\n",
    "    longitude=FloatSlider(\n",
    "        min=X_test[\"Longitude\"].min(),\n",
    "        max=X_test[\"Longitude\"].max(),\n",
    "        step=0.01,\n",
    "        value=X_test[\"Longitude\"].mean(),\n",
    "        description=\"Longitude:\",\n",
    "    ),\n",
    ")"
   ]
  }
 ],
 "metadata": {
  "kernelspec": {
   "display_name": "myenv",
   "language": "python",
   "name": "python3"
  },
  "language_info": {
   "codemirror_mode": {
    "name": "ipython",
    "version": 3
   },
   "file_extension": ".py",
   "mimetype": "text/x-python",
   "name": "python",
   "nbconvert_exporter": "python",
   "pygments_lexer": "ipython3",
   "version": "3.12.3"
  }
 },
 "nbformat": 4,
 "nbformat_minor": 2
}
