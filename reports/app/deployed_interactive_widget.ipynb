{
 "cells": [
  {
   "cell_type": "markdown",
   "metadata": {},
   "source": [
    "## Prediction Jupyter Notebook For Direct Interactivity"
   ]
  },
  {
   "cell_type": "code",
   "execution_count": null,
   "metadata": {},
   "outputs": [],
   "source": [
    "import pandas as pd\n",
    "import joblib\n",
    "import requests\n",
    "from io import BytesIO\n",
    "\n",
    "# Load dataset & model from GitHub\n",
    "GITHUB_REPO = (\n",
    "    \"https://raw.githubusercontent.com/NdubuakuMiracle/housing-in-melbourne/blob/main\"\n",
    ")\n",
    "CSV_URL = f\"{GITHUB_REPO}/data/processed/X_test.csv\"\n",
    "MODEL_URL = f\"{GITHUB_REPO}/models/price_by_sub_area_lat_lon_model.pkl\"\n",
    "\n",
    "# Load dataset (X_test)\n",
    "X_test = pd.read_csv(CSV_URL)\n",
    "\n",
    "# Load trained model\n",
    "model = joblib.load(BytesIO(requests.get(MODEL_URL).content))"
   ]
  },
  {
   "cell_type": "code",
   "execution_count": 5,
   "metadata": {},
   "outputs": [
    {
     "ename": "ModuleNotFoundError",
     "evalue": "No module named 'google'",
     "output_type": "error",
     "traceback": [
      "\u001b[1;31m---------------------------------------------------------------------------\u001b[0m",
      "\u001b[1;31mModuleNotFoundError\u001b[0m                       Traceback (most recent call last)",
      "Cell \u001b[1;32mIn[5], line 2\u001b[0m\n\u001b[0;32m      1\u001b[0m \u001b[38;5;28;01mfrom\u001b[39;00m \u001b[38;5;21;01mipywidgets\u001b[39;00m \u001b[38;5;28;01mimport\u001b[39;00m interact, Dropdown, IntSlider, FloatSlider\n\u001b[1;32m----> 2\u001b[0m \u001b[38;5;28;01mfrom\u001b[39;00m \u001b[38;5;21;01mgoogle\u001b[39;00m\u001b[38;5;21;01m.\u001b[39;00m\u001b[38;5;21;01mcolab\u001b[39;00m \u001b[38;5;28;01mimport\u001b[39;00m output  \u001b[38;5;66;03m# Required for interactivity in Colab\u001b[39;00m\n\u001b[0;32m      4\u001b[0m \u001b[38;5;66;03m# Enable interactive widgets in Colab\u001b[39;00m\n\u001b[0;32m      5\u001b[0m output\u001b[38;5;241m.\u001b[39menable_custom_widget_manager()\n",
      "\u001b[1;31mModuleNotFoundError\u001b[0m: No module named 'google'"
     ]
    }
   ],
   "source": [
    "from ipywidgets import interact, Dropdown, IntSlider, FloatSlider\n",
    "from google.colab import output  # Required for interactivity in Colab\n",
    "\n",
    "# Enable interactive widgets in Colab\n",
    "output.enable_custom_widget_manager()\n",
    "\n",
    "\n",
    "from ipywidgets import interact, Dropdown, IntSlider, FloatSlider\n",
    "from google.colab import output  # Enable widgets in Colab\n",
    "\n",
    "# Enable interactivity\n",
    "output.enable_custom_widget_manager()\n",
    "\n",
    "\n",
    "# Prediction function\n",
    "def price_predictor(suburb, area, latitude, longitude):\n",
    "    df = pd.DataFrame(\n",
    "        {\n",
    "            \"Suburb\": [suburb],\n",
    "            \"BuildingArea\": [area],\n",
    "            \"Latitude\": [latitude],\n",
    "            \"Longitude\": [longitude],\n",
    "        }\n",
    "    )\n",
    "    prediction = model.predict(df)[0]\n",
    "    return f\"💰 Predicted House Price: ${prediction:,.2f}\"\n",
    "\n",
    "\n",
    "# Run interactive widget\n",
    "\n",
    "widget = interact(\n",
    "    price_predictor,\n",
    "    suburb=Dropdown(options=sorted(X_test[\"Suburb\"].unique()), description=\"Suburb:\"),\n",
    "    area=IntSlider(\n",
    "        min=X_test[\"BuildingArea\"].min(),\n",
    "        max=X_test[\"BuildingArea\"].max(),\n",
    "        value=X_test[\"BuildingArea\"].mean(),\n",
    "        description=\"BuildingArea:\",\n",
    "    ),\n",
    "    latitude=FloatSlider(\n",
    "        min=X_test[\"Latitude\"].min(),\n",
    "        max=X_test[\"Latitude\"].max(),\n",
    "        step=0.01,\n",
    "        value=X_test[\"Latitude\"].mean(),\n",
    "        description=\"Latitude:\",\n",
    "    ),\n",
    "    longitude=FloatSlider(\n",
    "        min=X_test[\"Longitude\"].min(),\n",
    "        max=X_test[\"Longitude\"].max(),\n",
    "        step=0.01,\n",
    "        value=X_test[\"Longitude\"].mean(),\n",
    "        description=\"Longitude:\",\n",
    "    ),\n",
    ")"
   ]
  }
 ],
 "metadata": {
  "kernelspec": {
   "display_name": "myenv",
   "language": "python",
   "name": "python3"
  },
  "language_info": {
   "codemirror_mode": {
    "name": "ipython",
    "version": 3
   },
   "file_extension": ".py",
   "mimetype": "text/x-python",
   "name": "python",
   "nbconvert_exporter": "python",
   "pygments_lexer": "ipython3",
   "version": "3.12.3"
  }
 },
 "nbformat": 4,
 "nbformat_minor": 2
}
